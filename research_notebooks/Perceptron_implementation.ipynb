{
 "cells": [
  {
   "cell_type": "code",
   "execution_count": 2,
   "metadata": {
    "ExecuteTime": {
     "end_time": "2022-05-01T07:27:58.754668Z",
     "start_time": "2022-05-01T07:27:58.744234Z"
    },
    "executionInfo": {
     "elapsed": 408,
     "status": "ok",
     "timestamp": 1651256595191,
     "user": {
      "displayName": "Prem Jadhav",
      "userId": "16608881085161659118"
     },
     "user_tz": -330
    },
    "id": "6QQEwhATvwdj"
   },
   "outputs": [],
   "source": [
    "import tensorflow as tf\n",
    "import matplotlib.pyplot as plt\n",
    "import numpy as np\n",
    "import pandas as pd\n",
    "import os\n",
    "import joblib\n",
    "from matplotlib.colors import ListedColormap"
   ]
  },
  {
   "cell_type": "code",
   "execution_count": 3,
   "metadata": {
    "ExecuteTime": {
     "end_time": "2022-05-01T07:28:02.219918Z",
     "start_time": "2022-05-01T07:28:02.192427Z"
    },
    "executionInfo": {
     "elapsed": 414,
     "status": "ok",
     "timestamp": 1651252436889,
     "user": {
      "displayName": "Prem Jadhav",
      "userId": "16608881085161659118"
     },
     "user_tz": -330
    },
    "id": "5Hu4gU3vwCta"
   },
   "outputs": [],
   "source": [
    "class Perceptron:\n",
    "  def __init__(self, eta: float=None, epochs: int=None):\n",
    "    self.weights = np.random.rand(3)*1e-4 ## initialising random weights before training\n",
    "    training = (eta is not None) and (epochs is not None)\n",
    "    if training:\n",
    "      logging.info(f\"Initial weights before Training:\\n{self.weights}\")\n",
    "    self.eta = eta\n",
    "    self.epochs = epochs\n",
    "\n",
    "  def _ZOutcome_(self,X,w):\n",
    "    return np.dot(X,w)\n",
    "\n",
    "  def activation(self,z):\n",
    "    return np.where(z>0,1,0)\n",
    "\n",
    "  def fit(self,X,y):\n",
    "    self.X =X\n",
    "    self.y = y\n",
    "\n",
    "  # To add bias to X\n",
    "    X_with_bias = np.c_[self.X,-np.ones((len(self.X),1))]\n",
    "    \n",
    "    for epoch in range(self.epochs):\n",
    "      logging.info(f\"for epoch>> {epoch+1}\")\n",
    "      z = self._ZOutcome_(X_with_bias,self.weights)\n",
    "      y_hat = self.activation(z)\n",
    "      logging.info(f\"Predicted value after Forward Pass: {y_hat}\")\n",
    "\n",
    "      # Error Calculation\n",
    "      self.error = self.y - y_hat\n",
    "      logging.info(f'Error:\\n{self.error}')\n",
    "\n",
    "      # Weight update\n",
    "      self.weights = self.weights + self.eta* np.dot(X_with_bias.T,self.error)\n",
    "      logging.info(f\"Updated weights after {epoch+1}/{self.epochs}: {self.weights}\")\n",
    "\n",
    "  def predictFun(self,X):\n",
    "    X_with_bias = np.c_[X,-np.ones((len(X),1))]\n",
    "    z = self._ZOutcome_(X_with_bias,self.weights)\n",
    "    return self.activation(z)\n",
    "  \n",
    "  def _create_dir(self,filename, model_dir):\n",
    "    os.makedirs(model_dir, exist_ok=True)\n",
    "    return os.path.join(model_dir,filename)\n",
    "\n",
    "  def SaveModel(self,filename,model_dir=None):\n",
    "    if model_dir:\n",
    "      model_file_path = self._create_dir(filename,model_dir)\n",
    "      joblib.dump(self,model_file_path)\n",
    "    else:\n",
    "      model_file_path = self._create_dir(filename,'model')\n",
    "      joblib.dump(self,model_file_path)\n",
    "  \n",
    "  def loadModel_(self, filepath):\n",
    "    return joblib.load(filepath)"
   ]
  },
  {
   "cell_type": "code",
   "execution_count": 65,
   "metadata": {
    "executionInfo": {
     "elapsed": 414,
     "status": "ok",
     "timestamp": 1651251181318,
     "user": {
      "displayName": "Prem Jadhav",
      "userId": "16608881085161659118"
     },
     "user_tz": -330
    },
    "id": "I-_WseaHDLVB"
   },
   "outputs": [],
   "source": [
    "def Data_prepare(df, target='y'):\n",
    "  X = df.drop(target,axis=1)\n",
    "  y = df[target]\n",
    "\n",
    "  return X,y"
   ]
  },
  {
   "cell_type": "code",
   "execution_count": 93,
   "metadata": {
    "executionInfo": {
     "elapsed": 416,
     "status": "ok",
     "timestamp": 1651255248720,
     "user": {
      "displayName": "Prem Jadhav",
      "userId": "16608881085161659118"
     },
     "user_tz": -330
    },
    "id": "mojGttLawQCd"
   },
   "outputs": [],
   "source": [
    "# Model Training\n",
    "AND = {\n",
    "    'x1': [0,0,1,1],\n",
    "    'x2': [0,1,0,1],\n",
    "    'y': [0,0,0,1]\n",
    "}\n",
    "\n",
    "df_AND = pd.DataFrame(AND)\n",
    "X,y = Data_prepare(df_AND)\n",
    "\n",
    "eta = 0.1\n",
    "EPOCHS = 10"
   ]
  },
  {
   "cell_type": "code",
   "execution_count": 94,
   "metadata": {
    "colab": {
     "base_uri": "https://localhost:8080/",
     "height": 174
    },
    "executionInfo": {
     "elapsed": 13,
     "status": "ok",
     "timestamp": 1651255250909,
     "user": {
      "displayName": "Prem Jadhav",
      "userId": "16608881085161659118"
     },
     "user_tz": -330
    },
    "id": "6rjuTTqcMHJf",
    "outputId": "09b8117d-0a40-4d72-de87-2ddc32e7b3d6"
   },
   "outputs": [
    {
     "data": {
      "text/html": [
       "\n",
       "  <div id=\"df-c9c5ba00-841b-48c4-a16c-affed9f54611\">\n",
       "    <div class=\"colab-df-container\">\n",
       "      <div>\n",
       "<style scoped>\n",
       "    .dataframe tbody tr th:only-of-type {\n",
       "        vertical-align: middle;\n",
       "    }\n",
       "\n",
       "    .dataframe tbody tr th {\n",
       "        vertical-align: top;\n",
       "    }\n",
       "\n",
       "    .dataframe thead th {\n",
       "        text-align: right;\n",
       "    }\n",
       "</style>\n",
       "<table border=\"1\" class=\"dataframe\">\n",
       "  <thead>\n",
       "    <tr style=\"text-align: right;\">\n",
       "      <th></th>\n",
       "      <th>x1</th>\n",
       "      <th>x2</th>\n",
       "    </tr>\n",
       "  </thead>\n",
       "  <tbody>\n",
       "    <tr>\n",
       "      <th>0</th>\n",
       "      <td>0</td>\n",
       "      <td>0</td>\n",
       "    </tr>\n",
       "    <tr>\n",
       "      <th>1</th>\n",
       "      <td>0</td>\n",
       "      <td>1</td>\n",
       "    </tr>\n",
       "    <tr>\n",
       "      <th>2</th>\n",
       "      <td>1</td>\n",
       "      <td>0</td>\n",
       "    </tr>\n",
       "    <tr>\n",
       "      <th>3</th>\n",
       "      <td>1</td>\n",
       "      <td>1</td>\n",
       "    </tr>\n",
       "  </tbody>\n",
       "</table>\n",
       "</div>\n",
       "      <button class=\"colab-df-convert\" onclick=\"convertToInteractive('df-c9c5ba00-841b-48c4-a16c-affed9f54611')\"\n",
       "              title=\"Convert this dataframe to an interactive table.\"\n",
       "              style=\"display:none;\">\n",
       "        \n",
       "  <svg xmlns=\"http://www.w3.org/2000/svg\" height=\"24px\"viewBox=\"0 0 24 24\"\n",
       "       width=\"24px\">\n",
       "    <path d=\"M0 0h24v24H0V0z\" fill=\"none\"/>\n",
       "    <path d=\"M18.56 5.44l.94 2.06.94-2.06 2.06-.94-2.06-.94-.94-2.06-.94 2.06-2.06.94zm-11 1L8.5 8.5l.94-2.06 2.06-.94-2.06-.94L8.5 2.5l-.94 2.06-2.06.94zm10 10l.94 2.06.94-2.06 2.06-.94-2.06-.94-.94-2.06-.94 2.06-2.06.94z\"/><path d=\"M17.41 7.96l-1.37-1.37c-.4-.4-.92-.59-1.43-.59-.52 0-1.04.2-1.43.59L10.3 9.45l-7.72 7.72c-.78.78-.78 2.05 0 2.83L4 21.41c.39.39.9.59 1.41.59.51 0 1.02-.2 1.41-.59l7.78-7.78 2.81-2.81c.8-.78.8-2.07 0-2.86zM5.41 20L4 18.59l7.72-7.72 1.47 1.35L5.41 20z\"/>\n",
       "  </svg>\n",
       "      </button>\n",
       "      \n",
       "  <style>\n",
       "    .colab-df-container {\n",
       "      display:flex;\n",
       "      flex-wrap:wrap;\n",
       "      gap: 12px;\n",
       "    }\n",
       "\n",
       "    .colab-df-convert {\n",
       "      background-color: #E8F0FE;\n",
       "      border: none;\n",
       "      border-radius: 50%;\n",
       "      cursor: pointer;\n",
       "      display: none;\n",
       "      fill: #1967D2;\n",
       "      height: 32px;\n",
       "      padding: 0 0 0 0;\n",
       "      width: 32px;\n",
       "    }\n",
       "\n",
       "    .colab-df-convert:hover {\n",
       "      background-color: #E2EBFA;\n",
       "      box-shadow: 0px 1px 2px rgba(60, 64, 67, 0.3), 0px 1px 3px 1px rgba(60, 64, 67, 0.15);\n",
       "      fill: #174EA6;\n",
       "    }\n",
       "\n",
       "    [theme=dark] .colab-df-convert {\n",
       "      background-color: #3B4455;\n",
       "      fill: #D2E3FC;\n",
       "    }\n",
       "\n",
       "    [theme=dark] .colab-df-convert:hover {\n",
       "      background-color: #434B5C;\n",
       "      box-shadow: 0px 1px 3px 1px rgba(0, 0, 0, 0.15);\n",
       "      filter: drop-shadow(0px 1px 2px rgba(0, 0, 0, 0.3));\n",
       "      fill: #FFFFFF;\n",
       "    }\n",
       "  </style>\n",
       "\n",
       "      <script>\n",
       "        const buttonEl =\n",
       "          document.querySelector('#df-c9c5ba00-841b-48c4-a16c-affed9f54611 button.colab-df-convert');\n",
       "        buttonEl.style.display =\n",
       "          google.colab.kernel.accessAllowed ? 'block' : 'none';\n",
       "\n",
       "        async function convertToInteractive(key) {\n",
       "          const element = document.querySelector('#df-c9c5ba00-841b-48c4-a16c-affed9f54611');\n",
       "          const dataTable =\n",
       "            await google.colab.kernel.invokeFunction('convertToInteractive',\n",
       "                                                     [key], {});\n",
       "          if (!dataTable) return;\n",
       "\n",
       "          const docLinkHtml = 'Like what you see? Visit the ' +\n",
       "            '<a target=\"_blank\" href=https://colab.research.google.com/notebooks/data_table.ipynb>data table notebook</a>'\n",
       "            + ' to learn more about interactive tables.';\n",
       "          element.innerHTML = '';\n",
       "          dataTable['output_type'] = 'display_data';\n",
       "          await google.colab.output.renderOutput(dataTable, element);\n",
       "          const docLink = document.createElement('div');\n",
       "          docLink.innerHTML = docLinkHtml;\n",
       "          element.appendChild(docLink);\n",
       "        }\n",
       "      </script>\n",
       "    </div>\n",
       "  </div>\n",
       "  "
      ],
      "text/plain": [
       "   x1  x2\n",
       "0   0   0\n",
       "1   0   1\n",
       "2   1   0\n",
       "3   1   1"
      ]
     },
     "execution_count": 94,
     "metadata": {},
     "output_type": "execute_result"
    }
   ],
   "source": [
    "X"
   ]
  },
  {
   "cell_type": "code",
   "execution_count": 95,
   "metadata": {
    "colab": {
     "base_uri": "https://localhost:8080/"
    },
    "executionInfo": {
     "elapsed": 8,
     "status": "ok",
     "timestamp": 1651255252768,
     "user": {
      "displayName": "Prem Jadhav",
      "userId": "16608881085161659118"
     },
     "user_tz": -330
    },
    "id": "Je-zCLRIew5l",
    "outputId": "ce9aa046-9a1a-418b-da1e-99a2fdfd5b19"
   },
   "outputs": [
    {
     "data": {
      "text/plain": [
       "0    0\n",
       "1    0\n",
       "2    0\n",
       "3    1\n",
       "Name: y, dtype: int64"
      ]
     },
     "execution_count": 95,
     "metadata": {},
     "output_type": "execute_result"
    }
   ],
   "source": [
    "y"
   ]
  },
  {
   "cell_type": "code",
   "execution_count": 96,
   "metadata": {
    "colab": {
     "base_uri": "https://localhost:8080/"
    },
    "executionInfo": {
     "elapsed": 411,
     "status": "ok",
     "timestamp": 1651255256986,
     "user": {
      "displayName": "Prem Jadhav",
      "userId": "16608881085161659118"
     },
     "user_tz": -330
    },
    "id": "Nzs52aPRw9kX",
    "outputId": "5ac572e0-ddc3-4dd9-f87b-7bcd02137a0c"
   },
   "outputs": [
    {
     "name": "stdout",
     "output_type": "stream",
     "text": [
      "Initial weights before Training:\n",
      "[6.62185738e-05 9.61254620e-06 9.28124209e-05]\n",
      "for epoch>> 1\n",
      "Predicted value after Forward Pass: [0 0 0 0]\n",
      "Error:\n",
      "0    0\n",
      "1    0\n",
      "2    0\n",
      "3    1\n",
      "Name: y, dtype: int64\n",
      "Updated weights after 1/10: [ 0.10006622  0.10000961 -0.09990719]\n",
      "for epoch>> 2\n",
      "Predicted value after Forward Pass: [1 1 1 1]\n",
      "Error:\n",
      "0   -1\n",
      "1   -1\n",
      "2   -1\n",
      "3    0\n",
      "Name: y, dtype: int64\n",
      "Updated weights after 2/10: [6.62185738e-05 9.61254620e-06 2.00092812e-01]\n",
      "for epoch>> 3\n",
      "Predicted value after Forward Pass: [0 0 0 0]\n",
      "Error:\n",
      "0    0\n",
      "1    0\n",
      "2    0\n",
      "3    1\n",
      "Name: y, dtype: int64\n",
      "Updated weights after 3/10: [0.10006622 0.10000961 0.10009281]\n",
      "for epoch>> 4\n",
      "Predicted value after Forward Pass: [0 0 0 1]\n",
      "Error:\n",
      "0    0\n",
      "1    0\n",
      "2    0\n",
      "3    0\n",
      "Name: y, dtype: int64\n",
      "Updated weights after 4/10: [0.10006622 0.10000961 0.10009281]\n",
      "for epoch>> 5\n",
      "Predicted value after Forward Pass: [0 0 0 1]\n",
      "Error:\n",
      "0    0\n",
      "1    0\n",
      "2    0\n",
      "3    0\n",
      "Name: y, dtype: int64\n",
      "Updated weights after 5/10: [0.10006622 0.10000961 0.10009281]\n",
      "for epoch>> 6\n",
      "Predicted value after Forward Pass: [0 0 0 1]\n",
      "Error:\n",
      "0    0\n",
      "1    0\n",
      "2    0\n",
      "3    0\n",
      "Name: y, dtype: int64\n",
      "Updated weights after 6/10: [0.10006622 0.10000961 0.10009281]\n",
      "for epoch>> 7\n",
      "Predicted value after Forward Pass: [0 0 0 1]\n",
      "Error:\n",
      "0    0\n",
      "1    0\n",
      "2    0\n",
      "3    0\n",
      "Name: y, dtype: int64\n",
      "Updated weights after 7/10: [0.10006622 0.10000961 0.10009281]\n",
      "for epoch>> 8\n",
      "Predicted value after Forward Pass: [0 0 0 1]\n",
      "Error:\n",
      "0    0\n",
      "1    0\n",
      "2    0\n",
      "3    0\n",
      "Name: y, dtype: int64\n",
      "Updated weights after 8/10: [0.10006622 0.10000961 0.10009281]\n",
      "for epoch>> 9\n",
      "Predicted value after Forward Pass: [0 0 0 1]\n",
      "Error:\n",
      "0    0\n",
      "1    0\n",
      "2    0\n",
      "3    0\n",
      "Name: y, dtype: int64\n",
      "Updated weights after 9/10: [0.10006622 0.10000961 0.10009281]\n",
      "for epoch>> 10\n",
      "Predicted value after Forward Pass: [0 0 0 1]\n",
      "Error:\n",
      "0    0\n",
      "1    0\n",
      "2    0\n",
      "3    0\n",
      "Name: y, dtype: int64\n",
      "Updated weights after 10/10: [0.10006622 0.10000961 0.10009281]\n"
     ]
    }
   ],
   "source": [
    "model_AND = Perceptron(eta=eta, epochs=EPOCHS)\n",
    "model_AND.fit(X,y)"
   ]
  },
  {
   "cell_type": "code",
   "execution_count": 100,
   "metadata": {
    "colab": {
     "base_uri": "https://localhost:8080/"
    },
    "executionInfo": {
     "elapsed": 8,
     "status": "ok",
     "timestamp": 1651255278597,
     "user": {
      "displayName": "Prem Jadhav",
      "userId": "16608881085161659118"
     },
     "user_tz": -330
    },
    "id": "CTP4R595TFM7",
    "outputId": "460009d9-539c-422d-bd9b-3ed7dde5520b"
   },
   "outputs": [
    {
     "data": {
      "text/plain": [
       "array([1])"
      ]
     },
     "execution_count": 100,
     "metadata": {},
     "output_type": "execute_result"
    }
   ],
   "source": [
    "# Save,Load& Predict from model\n",
    "model_AND.SaveModel(filename='model_AND')\n",
    "loaded_model_AND = Perceptron().loadModel_(filepath='/content/model/model_AND')\n",
    "loaded_model_AND.predictFun(X=[[1,1]])"
   ]
  },
  {
   "cell_type": "code",
   "execution_count": 105,
   "metadata": {
    "colab": {
     "base_uri": "https://localhost:8080/",
     "height": 282
    },
    "executionInfo": {
     "elapsed": 1017,
     "status": "ok",
     "timestamp": 1651255988568,
     "user": {
      "displayName": "Prem Jadhav",
      "userId": "16608881085161659118"
     },
     "user_tz": -330
    },
    "id": "mqDhwLKTgHZ-",
    "outputId": "74374367-b19e-4e53-a72a-baeec17e7f26"
   },
   "outputs": [
    {
     "data": {
      "text/plain": [
       "[<matplotlib.lines.Line2D at 0x7f50c0948710>]"
      ]
     },
     "execution_count": 105,
     "metadata": {},
     "output_type": "execute_result"
    },
    {
     "data": {
      "image/png": "[encoded data removed]",
      "text/plain": [
       "<Figure size 432x288 with 1 Axes>"
      ]
     },
     "metadata": {
      "needs_background": "light"
     },
     "output_type": "display_data"
    }
   ],
   "source": [
    "# Plotting Model_AND\n",
    "plt.plot(X.x1,X.x2,'o',c=y)"
   ]
  },
  {
   "cell_type": "code",
   "execution_count": 110,
   "metadata": {
    "executionInfo": {
     "elapsed": 419,
     "status": "ok",
     "timestamp": 1651256708459,
     "user": {
      "displayName": "Prem Jadhav",
      "userId": "16608881085161659118"
     },
     "user_tz": -330
    },
    "id": "pH6YBcu4j73k"
   },
   "outputs": [],
   "source": [
    "def save_plot(df, model, filename=\"plot.png\", plot_dir=\"plots\"):\n",
    "    def _create_base_plot(df):\n",
    "        df.plot(kind=\"scatter\", x=\"x1\", y=\"x2\", c=\"y\", s=100, cmap=\"coolwarm\")\n",
    "        plt.axhline(y=0, color=\"black\", linestyle=\"--\", linewidth=1)\n",
    "        plt.axvline(x=0, color=\"black\", linestyle=\"--\", linewidth=1)\n",
    "        \n",
    "        figure = plt.gcf()\n",
    "        figure.set_size_inches(10, 8)\n",
    "    \n",
    "    def _plot_decision_regions(X, y, classifier, resolution=0.02):\n",
    "        colors = (\"cyan\", \"lightgreen\")\n",
    "        cmap = ListedColormap(colors)\n",
    "        \n",
    "        X = X.values # as an array\n",
    "        x1 = X[:, 0]\n",
    "        x2 = X[:, 1]\n",
    "        \n",
    "        x1_min, x1_max = x1.min() - 1, x1.max() + 1 \n",
    "        x2_min, x2_max = x2.min() - 1, x2.max() + 1\n",
    "        \n",
    "        xx1, xx2 = np.meshgrid(np.arange(x1_min, x1_max, resolution),\n",
    "                               np.arange(x2_min, x2_max, resolution)\n",
    "                              )\n",
    "        y_hat = classifier.predictFun(np.array([xx1.ravel(), xx2.ravel()]).T)\n",
    "        y_hat = y_hat.reshape(xx1.shape)\n",
    "        \n",
    "        plt.contourf(xx1, xx2, y_hat, alpha=0.3, cmap=cmap)\n",
    "        plt.xlim(xx1.min(), xx1.max())\n",
    "        plt.ylim(xx2.min(), xx2.max())\n",
    "        \n",
    "        plt.plot()\n",
    "        \n",
    "    X, y = Data_prepare(df)\n",
    "    \n",
    "    _create_base_plot(df)\n",
    "    _plot_decision_regions(X, y, model)\n",
    "    \n",
    "    os.makedirs(plot_dir, exist_ok=True)\n",
    "    plot_path = os.path.join(plot_dir, filename)\n",
    "    plt.savefig(plot_path)"
   ]
  },
  {
   "cell_type": "code",
   "execution_count": 111,
   "metadata": {
    "colab": {
     "base_uri": "https://localhost:8080/",
     "height": 476
    },
    "executionInfo": {
     "elapsed": 1035,
     "status": "ok",
     "timestamp": 1651256711330,
     "user": {
      "displayName": "Prem Jadhav",
      "userId": "16608881085161659118"
     },
     "user_tz": -330
    },
    "id": "VOLP5vASkJAN",
    "outputId": "29a8b9d9-e46d-43bb-c038-2031e48e1c57"
   },
   "outputs": [
    {
     "data": {
      "image/png": "[encoded data removed]",
      "text/plain": [
       "<Figure size 720x576 with 2 Axes>"
      ]
     },
     "metadata": {
      "needs_background": "light"
     },
     "output_type": "display_data"
    }
   ],
   "source": [
    "save_plot(df_AND,model_AND,filename='AND_plot.png')"
   ]
  },
  {
   "cell_type": "markdown",
   "metadata": {
    "id": "9NW8p8bngB5G"
   },
   "source": [
    "# OR Gate Training"
   ]
  },
  {
   "cell_type": "code",
   "execution_count": 71,
   "metadata": {
    "executionInfo": {
     "elapsed": 634,
     "status": "ok",
     "timestamp": 1651251531330,
     "user": {
      "displayName": "Prem Jadhav",
      "userId": "16608881085161659118"
     },
     "user_tz": -330
    },
    "id": "aWOs0rV7M0e5"
   },
   "outputs": [],
   "source": [
    "OR= {\n",
    "    'x1':[0,0,1,1],\n",
    "     'x2':[1,0,1,0],\n",
    "     'y':[1,0,1,1]\n",
    "}\n",
    "df_OR = pd.DataFrame(OR)\n",
    "X,y = Data_prepare(df_OR)"
   ]
  },
  {
   "cell_type": "code",
   "execution_count": 72,
   "metadata": {
    "colab": {
     "base_uri": "https://localhost:8080/"
    },
    "executionInfo": {
     "elapsed": 681,
     "status": "ok",
     "timestamp": 1651251597385,
     "user": {
      "displayName": "Prem Jadhav",
      "userId": "16608881085161659118"
     },
     "user_tz": -330
    },
    "id": "RfYvw09dQoKH",
    "outputId": "ab02fd24-008e-4d38-e934-16c4215d8344"
   },
   "outputs": [
    {
     "name": "stdout",
     "output_type": "stream",
     "text": [
      "Initial weights before Training:\n",
      "[8.73354765e-05 9.87852531e-05 8.56412131e-05]\n",
      "for epoch>> 1\n",
      "Predicted value after Forward Pass: [1 0 1 1]\n",
      "Error:\n",
      "0    0\n",
      "1    0\n",
      "2    0\n",
      "3    0\n",
      "Name: y, dtype: int64\n",
      "Updated weights after 1/10: [8.73354765e-05 9.87852531e-05 8.56412131e-05]\n",
      "for epoch>> 2\n",
      "Predicted value after Forward Pass: [1 0 1 1]\n",
      "Error:\n",
      "0    0\n",
      "1    0\n",
      "2    0\n",
      "3    0\n",
      "Name: y, dtype: int64\n",
      "Updated weights after 2/10: [8.73354765e-05 9.87852531e-05 8.56412131e-05]\n",
      "for epoch>> 3\n",
      "Predicted value after Forward Pass: [1 0 1 1]\n",
      "Error:\n",
      "0    0\n",
      "1    0\n",
      "2    0\n",
      "3    0\n",
      "Name: y, dtype: int64\n",
      "Updated weights after 3/10: [8.73354765e-05 9.87852531e-05 8.56412131e-05]\n",
      "for epoch>> 4\n",
      "Predicted value after Forward Pass: [1 0 1 1]\n",
      "Error:\n",
      "0    0\n",
      "1    0\n",
      "2    0\n",
      "3    0\n",
      "Name: y, dtype: int64\n",
      "Updated weights after 4/10: [8.73354765e-05 9.87852531e-05 8.56412131e-05]\n",
      "for epoch>> 5\n",
      "Predicted value after Forward Pass: [1 0 1 1]\n",
      "Error:\n",
      "0    0\n",
      "1    0\n",
      "2    0\n",
      "3    0\n",
      "Name: y, dtype: int64\n",
      "Updated weights after 5/10: [8.73354765e-05 9.87852531e-05 8.56412131e-05]\n",
      "for epoch>> 6\n",
      "Predicted value after Forward Pass: [1 0 1 1]\n",
      "Error:\n",
      "0    0\n",
      "1    0\n",
      "2    0\n",
      "3    0\n",
      "Name: y, dtype: int64\n",
      "Updated weights after 6/10: [8.73354765e-05 9.87852531e-05 8.56412131e-05]\n",
      "for epoch>> 7\n",
      "Predicted value after Forward Pass: [1 0 1 1]\n",
      "Error:\n",
      "0    0\n",
      "1    0\n",
      "2    0\n",
      "3    0\n",
      "Name: y, dtype: int64\n",
      "Updated weights after 7/10: [8.73354765e-05 9.87852531e-05 8.56412131e-05]\n",
      "for epoch>> 8\n",
      "Predicted value after Forward Pass: [1 0 1 1]\n",
      "Error:\n",
      "0    0\n",
      "1    0\n",
      "2    0\n",
      "3    0\n",
      "Name: y, dtype: int64\n",
      "Updated weights after 8/10: [8.73354765e-05 9.87852531e-05 8.56412131e-05]\n",
      "for epoch>> 9\n",
      "Predicted value after Forward Pass: [1 0 1 1]\n",
      "Error:\n",
      "0    0\n",
      "1    0\n",
      "2    0\n",
      "3    0\n",
      "Name: y, dtype: int64\n",
      "Updated weights after 9/10: [8.73354765e-05 9.87852531e-05 8.56412131e-05]\n",
      "for epoch>> 10\n",
      "Predicted value after Forward Pass: [1 0 1 1]\n",
      "Error:\n",
      "0    0\n",
      "1    0\n",
      "2    0\n",
      "3    0\n",
      "Name: y, dtype: int64\n",
      "Updated weights after 10/10: [8.73354765e-05 9.87852531e-05 8.56412131e-05]\n"
     ]
    }
   ],
   "source": [
    "model_OR = Perceptron(eta=eta,epochs=EPOCHS)\n",
    "model_OR.fit(X,y)"
   ]
  },
  {
   "cell_type": "code",
   "execution_count": null,
   "metadata": {
    "id": "8Ef3WuCOQ8sg"
   },
   "outputs": [],
   "source": []
  }
 ],
 "metadata": {
  "colab": {
   "authorship_tag": "ABX9TyOaBCEIM6iXZa5BcxlJg4NT",
   "collapsed_sections": [
    "9NW8p8bngB5G"
   ],
   "name": "Perceptron_implementation",
   "provenance": []
  },
  "kernelspec": {
   "display_name": "Python 3",
   "language": "python",
   "name": "python3"
  },
  "language_info": {
   "codemirror_mode": {
    "name": "ipython",
    "version": 3
   },
   "file_extension": ".py",
   "mimetype": "text/x-python",
   "name": "python",
   "nbconvert_exporter": "python",
   "pygments_lexer": "ipython3",
   "version": "3.8.5"
  }
 },
 "nbformat": 4,
 "nbformat_minor": 1
}
